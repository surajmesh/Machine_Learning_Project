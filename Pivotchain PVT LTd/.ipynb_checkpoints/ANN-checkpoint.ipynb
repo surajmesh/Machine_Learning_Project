{
 "cells": [
  {
   "cell_type": "code",
   "execution_count": 7,
   "id": "edbe55c6",
   "metadata": {},
   "outputs": [],
   "source": [
    "import random \n",
    "import numpy as np \n",
    "import matplotlib.pyplot as plt"
   ]
  },
  {
   "cell_type": "code",
   "execution_count": 42,
   "id": "7911e323",
   "metadata": {},
   "outputs": [
    {
     "name": "stdout",
     "output_type": "stream",
     "text": [
      "[[4.17022005e-01]\n",
      " [7.20324493e-01]\n",
      " [1.14374817e-04]\n",
      " [3.02332573e-01]\n",
      " [1.46755891e-01]\n",
      " [9.23385948e-02]\n",
      " [1.86260211e-01]\n",
      " [3.45560727e-01]\n",
      " [3.96767474e-01]\n",
      " [5.38816734e-01]\n",
      " [4.19194514e-01]\n",
      " [6.85219500e-01]\n",
      " [2.04452250e-01]\n",
      " [8.78117436e-01]\n",
      " [2.73875932e-02]\n",
      " [6.70467510e-01]\n",
      " [4.17304802e-01]\n",
      " [5.58689828e-01]\n",
      " [1.40386939e-01]\n",
      " [1.98101489e-01]\n",
      " [8.00744569e-01]\n",
      " [9.68261576e-01]\n",
      " [3.13424178e-01]\n",
      " [6.92322616e-01]\n",
      " [8.76389152e-01]\n",
      " [8.94606664e-01]\n",
      " [8.50442114e-02]\n",
      " [3.90547832e-02]\n",
      " [1.69830420e-01]\n",
      " [8.78142503e-01]\n",
      " [9.83468338e-02]\n",
      " [4.21107625e-01]\n",
      " [9.57889530e-01]\n",
      " [5.33165285e-01]\n",
      " [6.91877114e-01]\n",
      " [3.15515631e-01]\n",
      " [6.86500928e-01]\n",
      " [8.34625672e-01]\n",
      " [1.82882773e-02]\n",
      " [7.50144315e-01]\n",
      " [9.88861089e-01]\n",
      " [7.48165654e-01]\n",
      " [2.80443992e-01]\n",
      " [7.89279328e-01]\n",
      " [1.03226007e-01]\n",
      " [4.47893526e-01]\n",
      " [9.08595503e-01]\n",
      " [2.93614148e-01]\n",
      " [2.87775339e-01]\n",
      " [1.30028572e-01]\n",
      " [1.93669579e-02]\n",
      " [6.78835533e-01]\n",
      " [2.11628116e-01]\n",
      " [2.65546659e-01]\n",
      " [4.91573159e-01]\n",
      " [5.33625451e-02]\n",
      " [5.74117605e-01]\n",
      " [1.46728575e-01]\n",
      " [5.89305537e-01]\n",
      " [6.99758360e-01]\n",
      " [1.02334429e-01]\n",
      " [4.14055988e-01]\n",
      " [6.94400158e-01]\n",
      " [4.14179270e-01]\n",
      " [4.99534589e-02]\n",
      " [5.35896406e-01]\n",
      " [6.63794645e-01]\n",
      " [5.14889112e-01]\n",
      " [9.44594756e-01]\n",
      " [5.86555041e-01]\n",
      " [9.03401915e-01]\n",
      " [1.37474704e-01]\n",
      " [1.39276347e-01]\n",
      " [8.07391289e-01]\n",
      " [3.97676837e-01]\n",
      " [1.65354197e-01]\n",
      " [9.27508580e-01]\n",
      " [3.47765860e-01]\n",
      " [7.50812103e-01]\n",
      " [7.25997985e-01]\n",
      " [8.83306091e-01]\n",
      " [6.23672207e-01]\n",
      " [7.50942434e-01]\n",
      " [3.48898342e-01]\n",
      " [2.69927892e-01]\n",
      " [8.95886218e-01]\n",
      " [4.28091190e-01]\n",
      " [9.64840047e-01]\n",
      " [6.63441498e-01]\n",
      " [6.21695720e-01]\n",
      " [1.14745973e-01]\n",
      " [9.49489259e-01]\n",
      " [4.49912133e-01]\n",
      " [5.78389614e-01]\n",
      " [4.08136803e-01]\n",
      " [2.37026980e-01]\n",
      " [9.03379521e-01]\n",
      " [5.73679487e-01]\n",
      " [2.87032703e-03]\n",
      " [6.17144914e-01]]\n"
     ]
    }
   ],
   "source": [
    "np.random.seed(1)\n",
    "x = np.random.rand(100,1)\n",
    "print(x)"
   ]
  },
  {
   "cell_type": "code",
   "execution_count": 38,
   "id": "19a91c63",
   "metadata": {},
   "outputs": [
    {
     "name": "stdout",
     "output_type": "stream",
     "text": [
      "[6.72, 13.709999999999999, 21.27]\n"
     ]
    }
   ],
   "source": [
    "X = [1.2,5.1,2.1]\n",
    "weights = [3.1,2.1,8.7]\n",
    "bias = 3\n",
    "\n",
    "ans=[]\n",
    "for i in range(len(X)):\n",
    "    output = X[i]*weights[i] + bias       # output = Xi*Bi + \n",
    "    ans.append(output)\n",
    "\n",
    "print(ans)"
   ]
  },
  {
   "cell_type": "code",
   "execution_count": 26,
   "id": "ae5acad3",
   "metadata": {},
   "outputs": [
    {
     "name": "stdout",
     "output_type": "stream",
     "text": [
      "41.7\n"
     ]
    }
   ],
   "source": [
    "output = X[0]*weights[0] + bias + X[1]*weights[1] + bias +X[2]*weights[2] + bias\n",
    "print(output)"
   ]
  },
  {
   "cell_type": "code",
   "execution_count": 69,
   "id": "1a069fb0",
   "metadata": {},
   "outputs": [],
   "source": [
    "np.random.seed(1)\n",
    "x = np.random.rand(100,1)  # x= example\n",
    "#print(x)\n",
    "y = x*x\n",
    "#print(y)"
   ]
  },
  {
   "cell_type": "code",
   "execution_count": 73,
   "id": "86208291",
   "metadata": {},
   "outputs": [
    {
     "ename": "TypeError",
     "evalue": "Layer_Dense.__init__() takes from 1 to 2 positional arguments but 5 were given",
     "output_type": "error",
     "traceback": [
      "\u001b[1;31m---------------------------------------------------------------------------\u001b[0m",
      "\u001b[1;31mTypeError\u001b[0m                                 Traceback (most recent call last)",
      "Input \u001b[1;32mIn [73]\u001b[0m, in \u001b[0;36m<cell line: 12>\u001b[1;34m()\u001b[0m\n\u001b[0;32m      7\u001b[0m         \u001b[38;5;28;01mdef\u001b[39;00m \u001b[38;5;21mforward\u001b[39m(\u001b[38;5;28mself\u001b[39m,x):\n\u001b[0;32m      8\u001b[0m             \u001b[38;5;28mself\u001b[39m\u001b[38;5;241m.\u001b[39moutput \u001b[38;5;241m=\u001b[39m np\u001b[38;5;241m.\u001b[39mdot(x,\u001b[38;5;28mself\u001b[39m\u001b[38;5;241m.\u001b[39mweights) \u001b[38;5;241m+\u001b[39m \u001b[38;5;28mself\u001b[39m\u001b[38;5;241m.\u001b[39mbiases\n\u001b[1;32m---> 12\u001b[0m layer1 \u001b[38;5;241m=\u001b[39m \u001b[43mLayer_Dense\u001b[49m\u001b[43m(\u001b[49m\u001b[38;5;241;43m1\u001b[39;49m\u001b[43m,\u001b[49m\u001b[38;5;241;43m500\u001b[39;49m\u001b[43m,\u001b[49m\u001b[38;5;241;43m600\u001b[39;49m\u001b[43m,\u001b[49m\u001b[38;5;241;43m7\u001b[39;49m\u001b[43m)\u001b[49m        \u001b[38;5;66;03m## S_input , N_neuron(any)\u001b[39;00m\n\u001b[0;32m     13\u001b[0m layer2\u001b[38;5;241m=\u001b[39m Layer_Dense(\u001b[38;5;241m1\u001b[39m,\u001b[38;5;241m500\u001b[39m,\u001b[38;5;241m600\u001b[39m,\u001b[38;5;241m7\u001b[39m)          \n\u001b[0;32m     14\u001b[0m \u001b[38;5;28mprint\u001b[39m(\u001b[38;5;241m0.10\u001b[39m\u001b[38;5;241m*\u001b[39mnp\u001b[38;5;241m.\u001b[39mrandom\u001b[38;5;241m.\u001b[39mrandn(\u001b[38;5;241m100\u001b[39m,\u001b[38;5;241m500\u001b[39m,\u001b[38;5;241m600\u001b[39m,\u001b[38;5;241m7\u001b[39m))\n",
      "\u001b[1;31mTypeError\u001b[0m: Layer_Dense.__init__() takes from 1 to 2 positional arguments but 5 were given"
     ]
    }
   ],
   "source": [
    "np.random.seed(2)\n",
    "\n",
    "class Layer_Dense:     # network\n",
    "    def __init__(self,lst=[]):\n",
    "        self.weights = 0.10*np.random.randn(arr)  ## Total size of N_neuron\n",
    "        self.biases = np.zeros((1,arr[1:-1]))  ## N_neuron in hidden layer\n",
    "        def forward(self,x):\n",
    "            self.output = np.dot(x,self.weights) + self.biases\n",
    "        \n",
    "\n",
    "        \n",
    "layer1 = Layer_Dense(1,)        ## S_input , N_neuron(any)\n",
    "layer2= Layer_Dense(1,)          \n",
    "print(0.10*np.random.randn(100,500,600,7))\n",
    "    "
   ]
  },
  {
   "cell_type": "code",
   "execution_count": null,
   "id": "44ba0d68",
   "metadata": {},
   "outputs": [],
   "source": []
  },
  {
   "cell_type": "code",
   "execution_count": null,
   "id": "ad80968e",
   "metadata": {},
   "outputs": [],
   "source": []
  }
 ],
 "metadata": {
  "kernelspec": {
   "display_name": "Python 3 (ipykernel)",
   "language": "python",
   "name": "python3"
  },
  "language_info": {
   "codemirror_mode": {
    "name": "ipython",
    "version": 3
   },
   "file_extension": ".py",
   "mimetype": "text/x-python",
   "name": "python",
   "nbconvert_exporter": "python",
   "pygments_lexer": "ipython3",
   "version": "3.10.0"
  }
 },
 "nbformat": 4,
 "nbformat_minor": 5
}
